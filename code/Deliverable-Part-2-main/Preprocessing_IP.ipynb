{
  "nbformat": 4,
  "nbformat_minor": 0,
  "metadata": {
    "colab": {
      "provenance": []
    },
    "kernelspec": {
      "name": "python3",
      "display_name": "Python 3"
    },
    "language_info": {
      "name": "python"
    }
  },
  "cells": [
    {
      "cell_type": "code",
      "source": [
        "import pandas as pd\n",
        "import re\n",
        "import numpy as np\n",
        "\n",
        "# Load the cleaned dataset\n",
        "df = pd.read_excel('part 2 dashboard data.xlsx')\n",
        "\n",
        "# Function to clean text\n",
        "def clean_text(text):\n",
        "    if isinstance(text, str):\n",
        "        text = re.sub(r'[\\x80-\\xFF]', '', text)  # Remove special characters\n",
        "        text = re.sub(r'[^\\x00-\\x7F]+', ' ', text)  # Remove non-ASCII characters\n",
        "        text = re.sub(r'\\s+', ' ', text).strip()  # Remove extra spaces\n",
        "    return text\n",
        "\n",
        "# Apply cleaning to title and summary\n",
        "df['Title'] = df['Title'].apply(clean_text)\n",
        "df['Summary'] = df['Summary'].apply(clean_text)\n",
        "\n",
        "# Function to extract country from title or summary\n",
        "G20_COUNTRIES = [\n",
        "    \"Argentina\", \"Australia\", \"Brazil\", \"Canada\", \"China\", \"France\", \"Germany\", \"India\", \"Indonesia\",\n",
        "    \"Italy\", \"Japan\", \"Mexico\", \"Russia\", \"Saudi Arabia\", \"South Africa\", \"South Korea\", \"Turkey\", \"United Kingdom\",\n",
        "    \"United States\", \"European Union\"\n",
        "]\n",
        "\n",
        "def extract_country(text):\n",
        "    if isinstance(text, str):\n",
        "        for country in G20_COUNTRIES:\n",
        "            if country.lower() in text.lower():\n",
        "                return country\n",
        "    return \"Other/Unidentified\"\n",
        "\n",
        "# Assign country based on title and summary\n",
        "df['Country'] = df.apply(lambda row: extract_country(row['Title']) if row['Country'] == \"Unknown\" else row['Country'], axis=1)\n",
        "df['Country'] = df.apply(lambda row: extract_country(row['Summary']) if row['Country'] == \"Unknown\" else row['Country'], axis=1)\n",
        "\n",
        "# Updated Category Classification\n",
        "CATEGORY_MAPPING = {\n",
        "    \"Conflicts & Military Operations\": [\"war\", \"invasion\", \"attack\", \"military strike\", \"airstrike\", \"border clash\", \"drone strike\", \"frontline\"],\n",
        "    \"Defense Budgets, Sales, Procurement, and In-country Defense-Industrial Base\": [\"arms deal\", \"procurement\", \"weapons sale\", \"contract\", \"military purchase\", \"export\", \"defense budget\", \"military spending\", \"funding\", \"defense allocation\"],\n",
        "    \"Geopolitics, Partnerships, & Alliances\": [\"alliance\", \"cooperation\", \"joint drills\", \"military pact\", \"strategic partnership\", \"bilateral agreement\", \"NATO\", \"Quad\", \"defense strategy\", \"deterrence\", \"national security policy\"],\n",
        "    \"Weapon Testing, Military Capability/Drills\": [\"missile test\", \"nuclear test\", \"hypersonic\", \"ballistic missile\", \"live-fire drills\", \"military exercises\", \"capability demonstration\"]\n",
        "}\n",
        "\n",
        "def classify_category(text):\n",
        "    if isinstance(text, str):\n",
        "        text_lower = text.lower()\n",
        "        for category, keywords in CATEGORY_MAPPING.items():\n",
        "            if any(keyword in text_lower for keyword in keywords):\n",
        "                return category\n",
        "    return \"Other/Unclassified\"\n",
        "\n",
        "# Apply classification based on title and summary\n",
        "df['Category'] = df.apply(lambda row: classify_category(row['Title']) if classify_category(row['Title']) != \"Other/Unclassified\" else classify_category(row['Summary']), axis=1)\n",
        "\n",
        "# Stance Analysis Keywords\n",
        "STANCE_KEYWORDS = {\n",
        "    \"Pro\": [\"strengthening\", \"enhancing\", \"successful\", \"advancing\", \"progress\", \"secured\"],\n",
        "    \"Neutral\": [\"meeting\", \"announced\", \"discussed\", \"held talks\", \"agreement\", \"report\"],\n",
        "    \"Against\": [\"criticized\", \"condemned\", \"violations\", \"escalation\", \"protest\", \"tensions\"]\n",
        "}\n",
        "\n",
        "def analyze_stance(text):\n",
        "    if isinstance(text, str):\n",
        "        text_lower = text.lower()\n",
        "        for stance, keywords in STANCE_KEYWORDS.items():\n",
        "            if any(keyword in text_lower for keyword in keywords):\n",
        "                return stance\n",
        "    return \"Neutral\"\n",
        "\n",
        "# Apply stance analysis\n",
        "df['Stance'] = df.apply(lambda row: analyze_stance(row['Title']) if analyze_stance(row['Title']) != \"Neutral\" else analyze_stance(row['Summary']), axis=1)\n",
        "\n",
        "# Importance Ranking using TF-IDF or Sentiment Scores (if available)\n",
        "from sklearn.feature_extraction.text import TfidfVectorizer\n",
        "\n",
        "vectorizer = TfidfVectorizer(stop_words='english')\n",
        "X = vectorizer.fit_transform(df['Summary'].fillna(''))\n",
        "df['Importance_Score'] = np.array(X.sum(axis=1)).flatten()\n",
        "\n",
        "# Rank articles based on importance\n",
        "df['Importance_Rank'] = df['Importance_Score'].rank(method='max', ascending=False)\n",
        "\n",
        "# Save cleaned and classified data\n",
        "df.to_csv('Data for dasboard.csv', index=False)\n",
        "print(\"✅ Data cleaning, categorization, stance analysis, and importance ranking complete. File saved as Defense_Analysis_Cleaned.csv\")\n"
      ],
      "metadata": {
        "colab": {
          "base_uri": "https://localhost:8080/"
        },
        "id": "J95_vrJyueav",
        "outputId": "7e6b6b8a-f74e-4f69-cb38-b588de0e829d"
      },
      "execution_count": 6,
      "outputs": [
        {
          "output_type": "stream",
          "name": "stdout",
          "text": [
            "✅ Data cleaning, categorization, stance analysis, and importance ranking complete. File saved as Defense_Analysis_Cleaned.csv\n"
          ]
        }
      ]
    }
  ]
}